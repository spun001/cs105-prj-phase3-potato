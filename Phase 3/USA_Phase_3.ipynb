{
 "cells": [
  {
   "cell_type": "markdown",
   "metadata": {},
   "source": [
    "# __CS 105 Final Project Phase 3__: Machine Learning on Wildfires in the United States\n",
    "\n",
    "##### Thi Nguyen, 862051496\n",
    "##### Sydney Pun, 862053259\n",
    "##### Heng Tan, 862155921\n"
   ]
  },
  {
   "cell_type": "markdown",
   "metadata": {},
   "source": [
    "### Why did you analyze the United States' Fire Data when you already have datasets pertaining to Australia and Brazil? \n",
    "\n",
    "Wildfires are clearly an issue in the United States. A yearly analysis as presented in our EDA shows that they are occurring more frequeuntly as the years progress. \n",
    "\n",
    "Wildfires are occurring more frequently as the years progress. This is clearly a climate change issue. Australia and Brazil are two countries that in the recent years have been affected by the most wildfires in the global sphere. These occurrences have thus captured the attention of the global sphere.\n",
    "\n",
    "As citizens of the U.S. because we are not living in these two countries, we may not be affected by this news. Essentially, we may turn a blind eye to this issue and simply shrug it off. But climate change is occurring at a truly alarming rate, as indicated by the increasing frequency of the United States' wildfire trends. \n",
    "\n",
    "As a result, by analyzing wildfires in the United States, we can see how the wildfire issue is affecting our home soil. This analysis thus seeks to shed light on this issue. \n",
    "\n",
    "[picture citation](https://www.bostonglobe.com/metro/2019/11/04/umass-study-invasive-grasses-are-contributing-wildfires-across/lAyX6GxsKlvq0DVMHtp6NJ/story.html)"
   ]
  },
  {
   "cell_type": "markdown",
   "metadata": {},
   "source": [
    "![Wildfires in the U.S.](wildfires.png)"
   ]
  },
  {
   "cell_type": "markdown",
   "metadata": {},
   "source": [
    "### __Implementing Machine Learning on \"1.88 Million U.S. Wildfires\"__ \n",
    "\n",
    "We will first use Machine Learning to predict the reasons for why wildfires occur in the United States. \n",
    "\n",
    "__HYPOTHESIS:__ Our hypothesis is that wildfires are __weather-related__ and can be linked to __climate change__.\n",
    "\n",
    "__Let's see if this prediction is correct.__ "
   ]
  },
  {
   "cell_type": "markdown",
   "metadata": {},
   "source": [
    "First, let's import the ilbraries necessary for our project."
   ]
  },
  {
   "cell_type": "code",
   "execution_count": 1,
   "metadata": {},
   "outputs": [
    {
     "name": "stdout",
     "output_type": "stream",
     "text": [
      "Requirement already satisfied: pandas in /usr/local/lib64/python3.6/site-packages\n",
      "Requirement already satisfied: pytz>=2017.2 in /usr/local/lib/python3.6/site-packages (from pandas)\n",
      "Requirement already satisfied: numpy>=1.13.3 in /usr/local/lib64/python3.6/site-packages (from pandas)\n",
      "Requirement already satisfied: python-dateutil>=2.6.1 in /usr/local/lib/python3.6/site-packages (from pandas)\n",
      "Requirement already satisfied: six>=1.5 in /usr/local/lib/python3.6/site-packages (from python-dateutil>=2.6.1->pandas)\n",
      "\u001b[33mYou are using pip version 9.0.1, however version 20.0.2 is available.\n",
      "You should consider upgrading via the 'pip install --upgrade pip' command.\u001b[0m\n",
      "Note: you may need to restart the kernel to use updated packages.\n"
     ]
    }
   ],
   "source": [
    "%pip install pandas"
   ]
  },
  {
   "cell_type": "code",
   "execution_count": 2,
   "metadata": {},
   "outputs": [
    {
     "name": "stdout",
     "output_type": "stream",
     "text": [
      "Requirement already satisfied: sqlalchemy in /usr/local/lib64/python3.6/site-packages\n",
      "\u001b[33mYou are using pip version 9.0.1, however version 20.0.2 is available.\n",
      "You should consider upgrading via the 'pip install --upgrade pip' command.\u001b[0m\n",
      "Note: you may need to restart the kernel to use updated packages.\n"
     ]
    }
   ],
   "source": [
    "%pip install sqlalchemy"
   ]
  },
  {
   "cell_type": "code",
   "execution_count": 3,
   "metadata": {},
   "outputs": [
    {
     "name": "stdout",
     "output_type": "stream",
     "text": [
      "Requirement already satisfied: sklearn in /home/csmajs/spun001/.local/lib/python3.6/site-packages\n",
      "Requirement already satisfied: scikit-learn in /home/csmajs/spun001/.local/lib/python3.6/site-packages (from sklearn)\n",
      "Requirement already satisfied: scipy>=0.17.0 in /usr/local/lib64/python3.6/site-packages (from scikit-learn->sklearn)\n",
      "Requirement already satisfied: numpy>=1.11.0 in /usr/local/lib64/python3.6/site-packages (from scikit-learn->sklearn)\n",
      "Requirement already satisfied: joblib>=0.11 in /home/csmajs/spun001/.local/lib/python3.6/site-packages (from scikit-learn->sklearn)\n",
      "\u001b[33mYou are using pip version 9.0.1, however version 20.0.2 is available.\n",
      "You should consider upgrading via the 'pip install --upgrade pip' command.\u001b[0m\n",
      "Note: you may need to restart the kernel to use updated packages.\n"
     ]
    }
   ],
   "source": [
    "%pip install sklearn"
   ]
  },
  {
   "cell_type": "code",
   "execution_count": 4,
   "metadata": {},
   "outputs": [],
   "source": [
    "# LIBRARIES \n",
    "import pandas as pd\n",
    "import numpy as np\n",
    "import sqlite3\n",
    "%matplotlib inline\n",
    "import matplotlib\n",
    "from sklearn.model_selection import train_test_split\n",
    "from sklearn.linear_model import LinearRegression\n",
    "from sklearn.metrics import r2_score, mean_squared_error\n",
    "import matplotlib.pyplot as plt\n",
    "plt.style.use('ggplot')\n",
    "plot_options = dict(figsize=(12,6))"
   ]
  },
  {
   "cell_type": "markdown",
   "metadata": {},
   "source": [
    "Now we need to store our dataset into a dataframe. "
   ]
  },
  {
   "cell_type": "code",
   "execution_count": 5,
   "metadata": {},
   "outputs": [
    {
     "name": "stdout",
     "output_type": "stream",
     "text": [
      "    LATITUDE   LONGITUDE  FIRE_YEAR  FIRE_SIZE\n",
      "0  40.036944 -121.005833       2005       0.10\n",
      "1  38.933056 -120.404444       2004       0.25\n",
      "2  38.984167 -120.735556       2004       0.10\n",
      "3  38.559167 -119.913333       2004       0.10\n",
      "4  38.559167 -119.933056       2004       0.10\n"
     ]
    }
   ],
   "source": [
    "# CREATING A CONNECTION FOR THE SQLITE FILE\n",
    "conn = sqlite3.connect(\"FPA_FOD_20170508.sqlite\")\n",
    "df = pd.read_sql_query(\"SELECT LATITUDE, LONGITUDE, FIRE_YEAR, FIRE_SIZE FROM Fires;\", conn)\n",
    "print(df.head())"
   ]
  },
  {
   "cell_type": "code",
   "execution_count": 6,
   "metadata": {},
   "outputs": [
    {
     "name": "stderr",
     "output_type": "stream",
     "text": [
      "/usr/local/lib/python3.6/site-packages/IPython/core/interactiveshell.py:3051: DtypeWarning: Columns (11) have mixed types. Specify dtype option on import or set low_memory=False.\n",
      "  interactivity=interactivity, compiler=compiler, result=result)\n"
     ]
    }
   ],
   "source": [
    "# USING SAME SQL DATAFRAME THAT HAS BEEN CONVERTED TO CSV\n",
    "df2 = pd.read_csv(\"filtered_groups_defg.csv\")"
   ]
  },
  {
   "cell_type": "code",
   "execution_count": 7,
   "metadata": {},
   "outputs": [],
   "source": [
    "# DROP COLUMNS UNNECESSARY COLUMNS AND NaN VALUES\n",
    "drop_cols = ['Unnamed: 0','OBJECTID', 'FOD_ID', 'FPA_ID','NWCG_REPORTING_UNIT_ID','NWCG_REPORTING_UNIT_NAME','SOURCE_REPORTING_UNIT','SOURCE_REPORTING_UNIT_NAME','LOCAL_FIRE_REPORT_ID','LOCAL_INCIDENT_ID','FIRE_CODE','FIRE_NAME','ICS_209_INCIDENT_NUMBER', 'ICS_209_NAME', 'MTBS_ID', 'MTBS_FIRE_NAME','COMPLEX_NAME','DISCOVERY_DATE','STAT_CAUSE_CODE','FIPS_CODE', 'FIPS_NAME', 'Shape','OWNER_CODE','DISCOVERY_TIME','COUNTY','CONT_DATE','CONT_DOY','CONT_TIME','SOURCE_SYSTEM','SOURCE_SYSTEM_TYPE']\n",
    "df2 = df2.drop(columns=drop_cols)"
   ]
  },
  {
   "cell_type": "markdown",
   "metadata": {},
   "source": [
    "Now, we will train our data and apply regression testing. "
   ]
  },
  {
   "cell_type": "code",
   "execution_count": 8,
   "metadata": {},
   "outputs": [],
   "source": [
    "label_names = sorted(df2['STAT_CAUSE_DESCR'].unique())\n",
    "df_dummies_X = df2.drop(columns=['STAT_CAUSE_DESCR'])\n",
    "df_dummies_X = pd.get_dummies(df_dummies_X)\n",
    "X = df_dummies_X\n",
    "Y = df2['STAT_CAUSE_DESCR']\n",
    "\n",
    "X_train, X_test, Y_train, Y_test = train_test_split(X,Y, test_size=0.4, random_state=1, stratify=Y)"
   ]
  },
  {
   "cell_type": "markdown",
   "metadata": {},
   "source": [
    "Now we will train the classifier using the Random Forest Classifier. And printed below is our testing accuracy."
   ]
  },
  {
   "cell_type": "code",
   "execution_count": 11,
   "metadata": {},
   "outputs": [
    {
     "name": "stdout",
     "output_type": "stream",
     "text": [
      "0.6014419077548757\n"
     ]
    }
   ],
   "source": [
    "from sklearn.ensemble import RandomForestClassifier\n",
    "from sklearn.metrics import accuracy_score\n",
    "\n",
    "classifier = RandomForestClassifier(n_estimators=200, max_depth=100, min_samples_leaf=5, random_state=123)\n",
    "\n",
    "classifier.fit(X_train, Y_train)\n",
    "training_accuracy = accuracy_score(Y_train, classifier.predict(X_train))\n",
    "pred = classifier.predict(X_test)\n",
    "test_accuracy = accuracy_score(Y_test, pred)\n",
    "\n",
    "print(test_accuracy)"
   ]
  },
  {
   "cell_type": "markdown",
   "metadata": {},
   "source": [
    "Then, we will use a heatmap to visualize the predicted reasons for why fires are occurring in the United States. "
   ]
  },
  {
   "cell_type": "code",
   "execution_count": 13,
   "metadata": {},
   "outputs": [
    {
     "data": {
      "image/png": "[encoded data removed]",
      "text/plain": [
       "<Figure size 576x576 with 1 Axes>"
      ]
     },
     "metadata": {
      "needs_background": "light"
     },
     "output_type": "display_data"
    }
   ],
   "source": [
    "%matplotlib inline\n",
    "import seaborn as sb\n",
    "import matplotlib.pyplot as plt\n",
    "from sklearn.metrics import confusion_matrix\n",
    "\n",
    "matrix = confusion_matrix(Y_test, pred)\n",
    "plt.figure(figsize=(8,8))\n",
    "sb.heatmap(matrix,square=True,annot=True, fmt='d', cbar=False, cmap='Blues',\n",
    "          xticklabels=label_names,yticklabels=label_names)\n",
    "plt.ylabel('Actual Cause of Wildfire')\n",
    "plt.xlabel('Predicted Cause of Wildfire')\n",
    "plt.tight_layout()\n",
    "plt.savefig(\"heatmapML.png\", dpi=170)"
   ]
  },
  {
   "cell_type": "markdown",
   "metadata": {},
   "source": [
    "This map clearly indicates that the wildfires are mainly occurring due to lightning strikes. With the heatmap, we see a clearer correlation between wildfire occurrences and weather. As a result, our prediction that these wildfires are linked to climate change was correct."
   ]
  },
  {
   "cell_type": "markdown",
   "metadata": {},
   "source": [
    "### __Implementing Machine Learning on \"NIFC Wildland Fires\"__"
   ]
  },
  {
   "cell_type": "markdown",
   "metadata": {},
   "source": [
    "We will now use Linear Regression on the crawled NIFC Wildland Fires data. \n",
    "\n",
    "__HYPOTHESIS:__ Our hypothesis is that the __total acres of the wildfires will increase__ as the years progress.\n",
    "\n",
    "__Let's see if this prediction is correct.__ "
   ]
  },
  {
   "cell_type": "code",
   "execution_count": 14,
   "metadata": {},
   "outputs": [
    {
     "data": {
      "text/html": [
       "<div>\n",
       "<style scoped>\n",
       "    .dataframe tbody tr th:only-of-type {\n",
       "        vertical-align: middle;\n",
       "    }\n",
       "\n",
       "    .dataframe tbody tr th {\n",
       "        vertical-align: top;\n",
       "    }\n",
       "\n",
       "    .dataframe thead th {\n",
       "        text-align: right;\n",
       "    }\n",
       "</style>\n",
       "<table border=\"1\" class=\"dataframe\">\n",
       "  <thead>\n",
       "    <tr style=\"text-align: right;\">\n",
       "      <th></th>\n",
       "      <th>Year</th>\n",
       "      <th>Fire Name</th>\n",
       "      <th>State</th>\n",
       "      <th>Total Acres</th>\n",
       "    </tr>\n",
       "  </thead>\n",
       "  <tbody>\n",
       "    <tr>\n",
       "      <th>0</th>\n",
       "      <td>2004</td>\n",
       "      <td>Taylor Complex</td>\n",
       "      <td>AK</td>\n",
       "      <td>1305592</td>\n",
       "    </tr>\n",
       "    <tr>\n",
       "      <th>1</th>\n",
       "      <td>2006</td>\n",
       "      <td>East Amarillo Complex</td>\n",
       "      <td>TX</td>\n",
       "      <td>907245</td>\n",
       "    </tr>\n",
       "    <tr>\n",
       "      <th>...</th>\n",
       "      <td>...</td>\n",
       "      <td>...</td>\n",
       "      <td>...</td>\n",
       "      <td>...</td>\n",
       "    </tr>\n",
       "    <tr>\n",
       "      <th>177</th>\n",
       "      <td>2000</td>\n",
       "      <td>Maudlow/Toston</td>\n",
       "      <td>MT</td>\n",
       "      <td>100000</td>\n",
       "    </tr>\n",
       "    <tr>\n",
       "      <th>178</th>\n",
       "      <td>2002</td>\n",
       "      <td>Vinasale</td>\n",
       "      <td>AK</td>\n",
       "      <td>100000</td>\n",
       "    </tr>\n",
       "  </tbody>\n",
       "</table>\n",
       "<p>179 rows × 4 columns</p>\n",
       "</div>"
      ],
      "text/plain": [
       "     Year              Fire Name State  Total Acres\n",
       "0    2004         Taylor Complex    AK      1305592\n",
       "1    2006  East Amarillo Complex    TX       907245\n",
       "..    ...                    ...   ...          ...\n",
       "177  2000         Maudlow/Toston    MT       100000\n",
       "178  2002               Vinasale    AK       100000\n",
       "\n",
       "[179 rows x 4 columns]"
      ]
     },
     "execution_count": 14,
     "metadata": {},
     "output_type": "execute_result"
    }
   ],
   "source": [
    "%matplotlib inline\n",
    "\n",
    "import pandas as pd\n",
    "pd.options.display.max_rows = 5\n",
    "nifc_df = pd.read_csv(\"NIFCWildlandFires.csv\")\n",
    "\n",
    "# REMOVING THE COMMA\n",
    "nifc_df['Total Acres'] = nifc_df['Total Acres'].str.replace(',', '')\n",
    "nifc_df['Year'] = nifc_df['Year'].str.replace(',', '')\n",
    "\n",
    "# CASTING TO FLOAT\n",
    "nifc_df['Total Acres'] = nifc_df['Total Acres'].astype(int)\n",
    "nifc_df['Year'] = nifc_df['Year'].astype(int)\n",
    "\n",
    "# DISPLAYING NEW DATAFRAME\n",
    "nifc_df"
   ]
  },
  {
   "cell_type": "code",
   "execution_count": 15,
   "metadata": {},
   "outputs": [
    {
     "data": {
      "text/plain": [
       "<matplotlib.axes._subplots.AxesSubplot at 0x7f80aba1cb38>"
      ]
     },
     "execution_count": 15,
     "metadata": {},
     "output_type": "execute_result"
    },
    {
     "data": {
      "image/png": "[encoded data removed]",
      "text/plain": [
       "<Figure size 432x288 with 1 Axes>"
      ]
     },
     "metadata": {
      "needs_background": "light"
     },
     "output_type": "display_data"
    }
   ],
   "source": [
    "from sklearn.linear_model import LinearRegression\n",
    "\n",
    "USA_train = nifc_df.loc[:].copy()\n",
    "USA_test  = nifc_df.loc[:].copy()\n",
    "\n",
    "X_train = USA_train[[\"Year\"]]\n",
    "X_test  = USA_test[[\"Year\"]]\n",
    "y_train = USA_train[\"Total Acres\"]\n",
    "\n",
    "USA_train.plot.scatter(x=\"Year\", y=\"Total Acres\")"
   ]
  },
  {
   "cell_type": "code",
   "execution_count": 16,
   "metadata": {},
   "outputs": [
    {
     "data": {
      "text/plain": [
       "array([232505.25212678, 229655.49201299, 213981.81138715, 228230.61195609,\n",
       "       225380.8518423 , 232505.25212678, 242479.41252504, 221106.21167162,\n",
       "       232505.25212678, 225380.8518423 , 231080.37206988, 235355.01224056,\n",
       "       216831.57150094, 235355.01224056, 221106.21167162, 212556.93133026,\n",
       "       232505.25212678, 225380.8518423 , 212556.93133026, 216831.57150094,\n",
       "       229655.49201299, 218256.45155783, 228230.61195609, 215406.69144404,\n",
       "       228230.61195609, 239629.65241125, 235355.01224056, 225380.8518423 ,\n",
       "       221106.21167162, 213981.81138715, 221106.21167162, 222531.09172852,\n",
       "       222531.09172852, 211132.05127336, 223955.97178541, 228230.61195609,\n",
       "       228230.61195609, 221106.21167162, 239629.65241125, 238204.77235435,\n",
       "       212556.93133026, 232505.25212678, 216831.57150094, 232505.25212678,\n",
       "       233930.13218367, 216831.57150094, 213981.81138715, 213981.81138715,\n",
       "       232505.25212678, 235355.01224056, 219681.33161473, 218256.45155783,\n",
       "       229655.49201299, 221106.21167162, 231080.37206988, 209707.17121647,\n",
       "       228230.61195609, 229655.49201299, 212556.93133026, 235355.01224056,\n",
       "       229655.49201299, 222531.09172852, 229655.49201299, 226805.7318992 ,\n",
       "       213981.81138715, 216831.57150094, 238204.77235435, 233930.13218367,\n",
       "       221106.21167162, 239629.65241125, 219681.33161473, 228230.61195609,\n",
       "       232505.25212678, 235355.01224056, 218256.45155783, 231080.37206988,\n",
       "       238204.77235435, 226805.7318992 , 238204.77235435, 225380.8518423 ,\n",
       "       225380.8518423 , 228230.61195609, 226805.7318992 , 229655.49201299,\n",
       "       231080.37206988, 222531.09172852, 221106.21167162, 228230.61195609,\n",
       "       225380.8518423 , 213981.81138715, 228230.61195609, 213981.81138715,\n",
       "       222531.09172852, 216831.57150094, 219681.33161473, 222531.09172852,\n",
       "       212556.93133026, 213981.81138715, 216831.57150094, 238204.77235435,\n",
       "       235355.01224056, 229655.49201299, 219681.33161473, 221106.21167162,\n",
       "       231080.37206988, 216831.57150094, 239629.65241125, 216831.57150094,\n",
       "       221106.21167162, 239629.65241125, 228230.61195609, 219681.33161473,\n",
       "       235355.01224056, 238204.77235435, 228230.61195609, 213981.81138715,\n",
       "       218256.45155783, 212556.93133026, 215406.69144404, 219681.33161473,\n",
       "       221106.21167162, 233930.13218367, 211132.05127336, 229655.49201299,\n",
       "       216831.57150094, 213981.81138715, 222531.09172852, 225380.8518423 ,\n",
       "       239629.65241125, 225380.8518423 , 238204.77235435, 229655.49201299,\n",
       "       235355.01224056, 211132.05127336, 238204.77235435, 228230.61195609,\n",
       "       222531.09172852, 215406.69144404, 232505.25212678, 229655.49201299,\n",
       "       235355.01224056, 232505.25212678, 229655.49201299, 229655.49201299,\n",
       "       231080.37206988, 215406.69144404, 229655.49201299, 211132.05127336,\n",
       "       219681.33161473, 216831.57150094, 238204.77235435, 219681.33161473,\n",
       "       223955.97178541, 229655.49201299, 228230.61195609, 229655.49201299,\n",
       "       233930.13218367, 222531.09172852, 212556.93133026, 238204.77235435,\n",
       "       221106.21167162, 231080.37206988, 211132.05127336, 236779.89229746,\n",
       "       226805.7318992 , 222531.09172852, 216831.57150094, 226805.7318992 ,\n",
       "       212556.93133026, 216831.57150094, 228230.61195609, 222531.09172852,\n",
       "       211132.05127336, 225380.8518423 , 229655.49201299, 212556.93133026,\n",
       "       239629.65241125, 238204.77235435, 235355.01224056])"
      ]
     },
     "execution_count": 16,
     "metadata": {},
     "output_type": "execute_result"
    }
   ],
   "source": [
    "from sklearn.linear_model import LinearRegression\n",
    "\n",
    "X_train = USA_train[[\"Year\"]]\n",
    "X_test = USA_test[[\"Year\"]]\n",
    "y_train = USA_train[\"Total Acres\"]\n",
    "\n",
    "model = LinearRegression()\n",
    "model.fit(X=X_train, y=y_train)\n",
    "model.predict(X=X_test)"
   ]
  },
  {
   "cell_type": "code",
   "execution_count": 20,
   "metadata": {},
   "outputs": [
    {
     "data": {
      "text/plain": [
       "<matplotlib.axes._subplots.AxesSubplot at 0x7f80aad724e0>"
      ]
     },
     "execution_count": 20,
     "metadata": {},
     "output_type": "execute_result"
    },
    {
     "data": {
      "image/png": "[encoded data removed]",
      "text/plain": [
       "<Figure size 432x288 with 1 Axes>"
      ]
     },
     "metadata": {
      "needs_background": "light"
     },
     "output_type": "display_data"
    }
   ],
   "source": [
    "import numpy as np\n",
    "\n",
    "X_new = pd.DataFrame()\n",
    "# create a sequence of 400 evenly spaced numbers from 1990 to 2020\n",
    "X_new[\"Year\"] = np.linspace(1990, 2020, num=500)\n",
    "\n",
    "# create a Series out of the predicted values\n",
    "# (trailing underscore indicates fitted values)\n",
    "y_new_ = pd.Series(\n",
    "    model.predict(X_new), # y values in Series.plot.line()\n",
    "    index=X_new[\"Year\"]    # x values in Series.plot.line()\n",
    ")\n",
    "\n",
    "# plot the data, then the model\n",
    "USA_train.plot.scatter(x=\"Year\", y=\"Total Acres\")\n",
    "y_new_.plot.line()"
   ]
  },
  {
   "cell_type": "markdown",
   "metadata": {},
   "source": [
    "Let's fix any non-linearity to ensure that our model is producing an accurate result. "
   ]
  },
  {
   "cell_type": "code",
   "execution_count": 18,
   "metadata": {},
   "outputs": [],
   "source": [
    "USA_train[\"log(Total Acres)\"] = np.log(USA_train[\"Total Acres\"])"
   ]
  },
  {
   "cell_type": "code",
   "execution_count": 21,
   "metadata": {},
   "outputs": [
    {
     "data": {
      "text/plain": [
       "<matplotlib.axes._subplots.AxesSubplot at 0x7f80abac4080>"
      ]
     },
     "execution_count": 21,
     "metadata": {},
     "output_type": "execute_result"
    },
    {
     "data": {
      "image/png": "[encoded data removed]",
      "text/plain": [
       "<Figure size 432x288 with 1 Axes>"
      ]
     },
     "metadata": {
      "needs_background": "light"
     },
     "output_type": "display_data"
    }
   ],
   "source": [
    "log_acre_model = LinearRegression()\n",
    "log_acre_model.fit(X=USA_train[[\"Year\"]],\n",
    "                    y=USA_train[\"log(Total Acres)\"])\n",
    "\n",
    "X_new = pd.DataFrame()\n",
    "X_new[\"Year\"] = np.linspace(1990, 2020, num=500)\n",
    "y_new_ = pd.Series(\n",
    "    log_acre_model.predict(X_new),\n",
    "    index=X_new[\"Year\"]\n",
    ")\n",
    "    \n",
    "USA_train.plot.scatter(x=\"Year\", y=\"log(Total Acres)\")\n",
    "y_new_.plot.line()"
   ]
  },
  {
   "cell_type": "markdown",
   "metadata": {},
   "source": [
    "When logging the Total Acres, the points are more evenly spread out.\n",
    "\n",
    "Our prediction that the wildfires in the U.S. are getting larger as time progresses is actually incorrect."
   ]
  },
  {
   "cell_type": "markdown",
   "metadata": {},
   "source": [
    "But, let's predict the total acres for a wildfire in 2020 with an Ashen Model. "
   ]
  },
  {
   "cell_type": "code",
   "execution_count": 23,
   "metadata": {},
   "outputs": [
    {
     "data": {
      "text/plain": [
       "LinearRegression(copy_X=True, fit_intercept=True, n_jobs=None, normalize=False)"
      ]
     },
     "execution_count": 23,
     "metadata": {},
     "output_type": "execute_result"
    }
   ],
   "source": [
    "ashen_model = LinearRegression()\n",
    "ashen_model.fit(\n",
    "    X=USA_train[[\"Year\"]],\n",
    "    y=USA_train[\"Total Acres\"]\n",
    ")"
   ]
  },
  {
   "cell_type": "code",
   "execution_count": 25,
   "metadata": {},
   "outputs": [
    {
     "data": {
      "text/plain": [
       "array([-1424.88005689])"
      ]
     },
     "execution_count": 25,
     "metadata": {},
     "output_type": "execute_result"
    }
   ],
   "source": [
    "ashen_model.coef_"
   ]
  },
  {
   "cell_type": "code",
   "execution_count": 26,
   "metadata": {},
   "outputs": [
    {
     "data": {
      "text/plain": [
       "3087964.8861429133"
      ]
     },
     "execution_count": 26,
     "metadata": {},
     "output_type": "execute_result"
    }
   ],
   "source": [
    "ashen_model.intercept_"
   ]
  },
  {
   "cell_type": "code",
   "execution_count": 27,
   "metadata": {},
   "outputs": [
    {
     "name": "stdout",
     "output_type": "stream",
     "text": [
      "[209707.17121647]\n"
     ]
    }
   ],
   "source": [
    "value = ashen_model.coef_ * 2020 + ashen_model.intercept_\n",
    "print(value)"
   ]
  },
  {
   "cell_type": "markdown",
   "metadata": {},
   "source": [
    "The estimated total acres for a wildfire in the year 2020 is predicted to be __209,707.17121647 acres__. "
   ]
  },
  {
   "cell_type": "markdown",
   "metadata": {},
   "source": [
    "This large value for the total acres burned down in a wildfire in 2020 clearly illustrates the wildfire issue in the United States."
   ]
  }
 ],
 "metadata": {
  "kernelspec": {
   "display_name": "Python 3",
   "language": "python",
   "name": "python3"
  },
  "language_info": {
   "codemirror_mode": {
    "name": "ipython",
    "version": 3
   },
   "file_extension": ".py",
   "mimetype": "text/x-python",
   "name": "python",
   "nbconvert_exporter": "python",
   "pygments_lexer": "ipython3",
   "version": "3.6.8"
  }
 },
 "nbformat": 4,
 "nbformat_minor": 4
}
